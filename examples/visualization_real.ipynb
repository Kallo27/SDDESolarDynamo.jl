{
 "cells": [
  {
   "cell_type": "code",
   "execution_count": null,
   "metadata": {},
   "outputs": [],
   "source": [
    "# VISUALIZATION NOTEBOOK\n",
    "\n",
    "# This notebook runs only the visualization of the results of a simulation for the Solar \n",
    "# Dynamo model with the sABC algorithm. The results of the simulation, as well as the parameters \n",
    "# used for the simulated data and the simulation itself are all stored in files in the directory \n",
    "# real_data_sim/real$i, and they are produced by the \"simulations.ipynb\" notebook.\n",
    "\n",
    "# NB: The first thing to choose is which simulation to visualize; then it is all automatically done.\n",
    "# There's no need to modify things, we can simply run the whole code so we know all the parameters\n",
    "# used and all the graphs that we could be interested in.\n",
    "\n",
    "# GG EZ - kallo27"
   ]
  },
  {
   "cell_type": "code",
   "execution_count": null,
   "metadata": {},
   "outputs": [],
   "source": [
    "# MODEL AND MANAGING FUNCTIONS FILES\n",
    "\n",
    "include(\"../src/SDDESolarDynamo.jl\")\n",
    "include(\"../src/VisualizationTools.jl\")\n",
    "include(\"../src/DirUtils.jl\")\n",
    "\n",
    "using .SDDESolarDynamo\n",
    "using .VisualizationTools\n",
    "using .DirUtils"
   ]
  },
  {
   "cell_type": "code",
   "execution_count": null,
   "metadata": {},
   "outputs": [],
   "source": [
    "# CHOICE OF THE DIRECTORY TO LOAD AND PLOT\n",
    "\n",
    "# Current directory\n",
    "initial_dir = pwd()\n",
    "\n",
    "# Going into \"real_data_sim/real$x\"\n",
    "x = 2\n",
    "switch_dir(\"real\", x)\n",
    "current_dir = pwd()\n",
    "\n",
    "# NB: don't run this cell again! First go back to the initial directory!\n",
    "# if pwd() != initial_dir\n",
    "#     cd(\"./../../examples\")\n",
    "# end"
   ]
  },
  {
   "cell_type": "code",
   "execution_count": null,
   "metadata": {},
   "outputs": [],
   "source": [
    "# LOADING OF SIMULATION PARAMETERS\n",
    "\n",
    "load_param_sim()"
   ]
  },
  {
   "cell_type": "code",
   "execution_count": null,
   "metadata": {},
   "outputs": [],
   "source": [
    "# LOADING AND PLOTTING OF SIMULATION RESULTS AND BEHAVIOUR\n",
    "\n",
    "# Results loading \n",
    "eps_hist, u_hist, rho_hist, posterior_params = load_result()\n",
    "\n",
    "# Epsilon, u and rho behaviour\n",
    "u_eps_plot(eps_hist, u_hist)\n",
    "rho_plot(rho_hist, style = \"together\")\n",
    "rho_history(rho_hist)"
   ]
  },
  {
   "cell_type": "code",
   "execution_count": null,
   "metadata": {},
   "outputs": [],
   "source": [
    "# POSTERIORS PLOTTING\n",
    "\n",
    "# Corner plot\n",
    "post_plotting_real(posterior_params)"
   ]
  },
  {
   "cell_type": "code",
   "execution_count": null,
   "metadata": {},
   "outputs": [],
   "source": [
    "# DIRECTORY MANAGING\n",
    "\n",
    "# Go back to the initial directory if not already there\n",
    "if pwd() != initial_dir\n",
    "    cd(\"./../../../examples\")\n",
    "end\n",
    "\n",
    "pwd()"
   ]
  }
 ],
 "metadata": {
  "kernelspec": {
   "display_name": "Julia 1.10.8",
   "language": "julia",
   "name": "julia-1.10"
  },
  "language_info": {
   "file_extension": ".jl",
   "mimetype": "application/julia",
   "name": "julia",
   "version": "1.10.8"
  }
 },
 "nbformat": 4,
 "nbformat_minor": 2
}
