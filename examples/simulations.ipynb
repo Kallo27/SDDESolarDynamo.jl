{
 "cells": [
  {
   "cell_type": "code",
   "execution_count": 1,
   "metadata": {},
   "outputs": [],
   "source": [
    "# SIMULATIONS NOTEBOOK\n",
    "\n",
    "# This notebook runs a simulation for the Solar Dynamo model with the sABC algorithm.\n",
    "# The results of the simulation, as well as the parameters used for the simulated data and \n",
    "# the simulation itself are all stored in files in the directory Simulations/Simulations i.\n",
    "# The reason behind this is to have an easier access to the results of already run simulations,\n",
    "# without running them again.\n",
    "\n",
    "# NB: In this notebook, there's no function to visualize the results: the visualization is all\n",
    "# contained in the \"visualization.ipynb\" notebook.\n",
    "\n",
    "# RULES:\n",
    "\n",
    "# There are two ways to use this notebook:\n",
    "# 1) change all the parameters and then run all -> correct way\n",
    "# 2) change things randomly and not in order and then run -> wrong way\n",
    "# Please be careful, some functions change the directory in which everything is being saved; the\n",
    "# order of the calling of the functions is organized to start from a generic dir, create the dir\n",
    "# Simulations/Simulation i, go to that directory and then, when everythingis finished, go back to\n",
    "# the initial dir!!! If you don't do that, it will stay in the subdir and at the next run it will\n",
    "# create a subdir of a subdir -> if you need to stop midway through because u forgot something, \n",
    "# remember to come back to the initial directory (and eliminate the directory that has not correct\n",
    "# files inside).\n",
    "\n",
    "# GG EZ - kallo27"
   ]
  },
  {
   "cell_type": "code",
   "execution_count": 2,
   "metadata": {},
   "outputs": [],
   "source": [
    "# NEEDED PACKAGES -> no visualization!!\n",
    "\n",
    "using SpecialFunctions\n",
    "using Distributions\n",
    "using SimulatedAnnealingABC\n",
    "using ThreadPinning"
   ]
  },
  {
   "cell_type": "code",
   "execution_count": 3,
   "metadata": {},
   "outputs": [],
   "source": [
    "# MODEL AND MANAGING FUNCTIONS FILES\n",
    "\n",
    "include(\"./model_functions.jl\")\n",
    "include(\"./managing_functions.jl\")\n",
    "\n",
    "using .model_functions\n",
    "using .managing_functions"
   ]
  },
  {
   "cell_type": "code",
   "execution_count": 4,
   "metadata": {},
   "outputs": [
    {
     "name": "stdout",
     "output_type": "stream",
     "text": [
      "\n",
      "System: 8 cores (no SMT), 8 sockets, 1 NUMA domains\n",
      "\n",
      "\u001b[0m\u001b[1m| \u001b[22m\u001b[33m\u001b[1m0\u001b[22m\u001b[39m\u001b[0m\u001b[1m | \u001b[22m\u001b[33m\u001b[1m1\u001b[22m\u001b[39m\u001b[0m\u001b[1m | \u001b[22m\u001b[33m\u001b[1m2\u001b[22m\u001b[39m\u001b[0m\u001b[1m | \u001b[22m\u001b[33m\u001b[1m3\u001b[22m\u001b[39m\u001b[0m\u001b[1m | \u001b[22m\u001b[33m\u001b[1m4\u001b[22m\u001b[39m\u001b[0m\u001b[1m | \u001b[22m\u001b[33m\u001b[1m5\u001b[22m\u001b[39m\u001b[0m\u001b[1m | \u001b[22m\u001b[33m\u001b[1m6\u001b[22m\u001b[39m\u001b[0m\u001b[1m | \u001b[22m\u001b[33m\u001b[1m7\u001b[22m\u001b[39m\u001b[0m\u001b[1m | \u001b[22m\n",
      "\n",
      "\u001b[33m\u001b[1m#\u001b[22m\u001b[39m = Julia thread, \u001b[0m\u001b[1m|\u001b[22m = Socket seperator\n",
      "\n",
      "Julia threads: \u001b[32m8\u001b[39m\n",
      "├ Occupied CPU-threads: \u001b[32m8\u001b[39m\n",
      "└ Mapping (Thread => CPUID): 1 => 0, 2 => 1, 3 => 2, 4 => 3, 5 => 4, ...\n"
     ]
    }
   ],
   "source": [
    "# THREADS SETTINGS AND INFO\n",
    "\n",
    "ThreadPinning.pinthreads(:cores)\n",
    "ThreadPinning.threadinfo()"
   ]
  },
  {
   "cell_type": "code",
   "execution_count": 5,
   "metadata": {},
   "outputs": [
    {
     "name": "stdout",
     "output_type": "stream",
     "text": [
      "Directory created at: /home/ubuntu/LCP_B/Project/Simulations/Simulation 16\n"
     ]
    }
   ],
   "source": [
    "# DIRECTORY MANAGING\n",
    "\n",
    "# Current directory\n",
    "initial_directory = pwd()\n",
    "\n",
    "# New directory\n",
    "create_directory(\"Simulation\")\n",
    "\n",
    "# NB: After \"create_directory\", we move to the new directory.\n",
    "# DON'T RUN THIS AGAIN, wait for the simulation to finish!!!! If you made errors,\n",
    "# eliminate the Simulations/Simulation i directory and then rerun everything"
   ]
  },
  {
   "cell_type": "code",
   "execution_count": 6,
   "metadata": {},
   "outputs": [
    {
     "data": {
      "text/plain": [
       "\"parameters.csv\""
      ]
     },
     "metadata": {},
     "output_type": "display_data"
    }
   ],
   "source": [
    "# SIMULATED DATA PARAMETERS MANAGING\n",
    "\n",
    "# Parameters for the simulated data\n",
    "N = 6.2\n",
    "T = 3.1\n",
    "tau = 3.5\n",
    "sigma = 0.04\n",
    "B_max = 6.0\n",
    "\n",
    "par = [N, T, tau, sigma, B_max]\n",
    "\n",
    "# Time\n",
    "Tsim = [971, 1899]\n",
    "dt = 0.1\n",
    "\n",
    "# Writing on file \"parameters.csv\" of the values set in this cell.\n",
    "write_params_sim(par, Tsim, dt)"
   ]
  },
  {
   "cell_type": "code",
   "execution_count": 7,
   "metadata": {},
   "outputs": [
    {
     "name": "stdout",
     "output_type": "stream",
     "text": [
      "Solution saved to file: /home/ubuntu/LCP_B/Project/Simulations/Simulation 16/simulated_sol.csv\n"
     ]
    }
   ],
   "source": [
    "# DATA SIMULATION\n",
    "\n",
    "# Data simulation with the chosen parameter\n",
    "sol = bfield(par, Tsim, dt)\n",
    "\n",
    "# Important solution data that are necessary afterwards\n",
    "t = sol.t\n",
    "u = sol[1, :]\n",
    "du = sol[2, :]\n",
    "\n",
    "# Creation of the summary statistics from the simulated data\n",
    "indices = 1:5:120\n",
    "sim_ss = reduced_fourier_spectrum(u.^2, indices)\n",
    "\n",
    "# Writing of the solution of the SDDE on file \"simulated_sol.csv\"\n",
    "save_solution(sol)"
   ]
  },
  {
   "cell_type": "code",
   "execution_count": 8,
   "metadata": {},
   "outputs": [
    {
     "name": "stdout",
     "output_type": "stream",
     "text": [
      "Parameters saved to: /home/ubuntu/LCP_B/Project/Simulations/Simulation 16/sabc_params.csv\n"
     ]
    }
   ],
   "source": [
    "# SIMULATION PARAMETERS MANAGING\n",
    "\n",
    "# Parameters that can be tuned for new simulations\n",
    "prior = product_distribution(Uniform(1, 15), Uniform(0.1, 15.0), Uniform(0.1, 6.0), Uniform(0.01, 0.3), Uniform(1, 15))\n",
    "n_particles = 1000\n",
    "n_simulation = 50000\n",
    "v = 1.0\n",
    "type = 1\n",
    "\n",
    "# Writing on file \"sabc_params.csv\" of the values set in this cell.\n",
    "save_sabc_params(prior, n_particles, n_simulation, v, type, indices)"
   ]
  },
  {
   "cell_type": "code",
   "execution_count": 9,
   "metadata": {},
   "outputs": [
    {
     "name": "stderr",
     "output_type": "stream",
     "text": [
      "┌ Info: Preparing to run SABC algorithm: 'single-epsilon'\n",
      "└ @ SimulatedAnnealingABC /home/ubuntu/.julia/packages/SimulatedAnnealingABC/e8QsC/src/SimulatedAnnealingABC.jl:188\n",
      "┌ Info: Using threads: 8 \n",
      "└ @ SimulatedAnnealingABC /home/ubuntu/.julia/packages/SimulatedAnnealingABC/e8QsC/src/SimulatedAnnealingABC.jl:199\n",
      "┌ Info: Set BLAS threads = 1 \n",
      "└ @ SimulatedAnnealingABC /home/ubuntu/.julia/packages/SimulatedAnnealingABC/e8QsC/src/SimulatedAnnealingABC.jl:202\n",
      "┌ Info: Set 'pinthreads(:cores)' for optimal multi-threading performance\n",
      "└ @ SimulatedAnnealingABC /home/ubuntu/.julia/packages/SimulatedAnnealingABC/e8QsC/src/SimulatedAnnealingABC.jl:204\n",
      "┌ Info: Initializing population...\n",
      "└ @ SimulatedAnnealingABC /home/ubuntu/.julia/packages/SimulatedAnnealingABC/e8QsC/src/SimulatedAnnealingABC.jl:223\n",
      "┌ Info: Initial resampling (δ = 0.1) - ESS = 996.6799495718246 \n",
      "└ @ SimulatedAnnealingABC /home/ubuntu/.julia/packages/SimulatedAnnealingABC/e8QsC/src/SimulatedAnnealingABC.jl:277\n",
      "┌ Info: Population with 1000 particles initialised.\n",
      "└ @ SimulatedAnnealingABC /home/ubuntu/.julia/packages/SimulatedAnnealingABC/e8QsC/src/SimulatedAnnealingABC.jl:309\n",
      "┌ Info: Initial ϵ = [0.29138272818419314]\n",
      "└ @ SimulatedAnnealingABC /home/ubuntu/.julia/packages/SimulatedAnnealingABC/e8QsC/src/SimulatedAnnealingABC.jl:310\n",
      "┌ Info: 2024-08-30T20:36:52.892 -- Starting population updates.\n",
      "└ @ SimulatedAnnealingABC /home/ubuntu/.julia/packages/SimulatedAnnealingABC/e8QsC/src/SimulatedAnnealingABC.jl:358\n",
      "┌ Info: Resampling 2 (δ = 0.1) - ESS = 991.2798870009404\n",
      "└ @ SimulatedAnnealingABC /home/ubuntu/.julia/packages/SimulatedAnnealingABC/e8QsC/src/SimulatedAnnealingABC.jl:470\n",
      "┌ Info: Resampling 3 (δ = 0.1) - ESS = 989.3243744368255\n",
      "└ @ SimulatedAnnealingABC /home/ubuntu/.julia/packages/SimulatedAnnealingABC/e8QsC/src/SimulatedAnnealingABC.jl:470\n",
      "┌ Info: 2024-08-30T20:37:02.432  All particles have been updated 49 times.\n",
      "└ @ SimulatedAnnealingABC /home/ubuntu/.julia/packages/SimulatedAnnealingABC/e8QsC/src/SimulatedAnnealingABC.jl:518\n"
     ]
    },
    {
     "data": {
      "text/plain": [
       "Approximate posterior sample with 1000 particles:\n",
       "  - simulations used: 50000\n",
       "  - average transformed distance: 0.07566\n",
       "  - ϵ: [0.02882]\n",
       "  - population resampling: 3\n",
       "  - acceptance rate: 0.1366\n",
       "The sample can be accessed with the field `population`.\n",
       "The history of ϵ can be accessed with the field `state.ϵ_history`.\n",
       " -------------------------------------- \n"
      ]
     },
     "metadata": {},
     "output_type": "display_data"
    },
    {
     "name": "stdout",
     "output_type": "stream",
     "text": [
      "eps_hist.csv data saved to: /home/ubuntu/LCP_B/Project/Simulations/Simulation 16/eps_hist.csv\n",
      "u_hist.csv data saved to: /home/ubuntu/LCP_B/Project/Simulations/Simulation 16/u_hist.csv\n",
      "rho_hist.csv data saved to: /home/ubuntu/LCP_B/Project/Simulations/Simulation 16/rho_hist.csv\n",
      "Posterior parameters saved to: /home/ubuntu/LCP_B/Project/Simulations/Simulation 16/pop.csv\n",
      "Rho values saved to: /home/ubuntu/LCP_B/Project/Simulations/Simulation 16/rho.csv\n"
     ]
    }
   ],
   "source": [
    "# SIMULATION\n",
    "\n",
    "# Actual usage of the sABC algorithm\n",
    "result = sabc(f_dist, prior;\n",
    "              n_particles = n_particles, \n",
    "              n_simulation = n_simulation,\n",
    "              v = v,\n",
    "              type = type,\n",
    "              indices = indices,\n",
    "              fourier_data = sim_ss, \n",
    "              Tsim = Tsim,\n",
    "              dt = dt)\n",
    "\n",
    "# Display of the summary of the results\n",
    "display(result)\n",
    "\n",
    "# Saving the results to the files: \"eps_hist.csv\", \"u_hist.csv\", \"rho_hist.csv\", \"pop_hist.csv\".\n",
    "save_result(result)"
   ]
  },
  {
   "cell_type": "code",
   "execution_count": 10,
   "metadata": {},
   "outputs": [
    {
     "data": {
      "text/plain": [
       "\"/home/ubuntu/LCP_B/Project\""
      ]
     },
     "metadata": {},
     "output_type": "display_data"
    }
   ],
   "source": [
    "# DIRECTORY MANAGING\n",
    "\n",
    "# We go back to the initial directory\n",
    "cd(initial_directory)\n",
    "pwd()"
   ]
  }
 ],
 "metadata": {
  "kernelspec": {
   "display_name": "Julia 1.10.4",
   "language": "julia",
   "name": "julia-1.10"
  },
  "language_info": {
   "file_extension": ".jl",
   "mimetype": "application/julia",
   "name": "julia",
   "version": "1.10.4"
  }
 },
 "nbformat": 4,
 "nbformat_minor": 2
}
