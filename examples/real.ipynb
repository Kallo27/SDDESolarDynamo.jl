{
 "cells": [
  {
   "cell_type": "code",
   "execution_count": 1,
   "metadata": {},
   "outputs": [],
   "source": [
    "# REAL NOTEBOOK\n",
    "\n",
    "# This notebook runs a simulation for the Solar Dynamo model with the sABC algorithm.\n",
    "# The results of the simulation are all stored in files in the directory Simulations/Real i.\n",
    "# The reason behind this is to have an easier access to the results of already run simulations,\n",
    "# without running them again. This notebook only processes real data!!\n",
    "\n",
    "# NB: In this notebook, there's no function to visualize the results: the visualization is all\n",
    "# contained in the \"visualization_real.ipynb\" notebook.\n",
    "\n",
    "# RULES:\n",
    "\n",
    "# There are two ways to use this notebook:\n",
    "# 1) change all the parameters and then run all -> correct way\n",
    "# 2) change things randomly and not in order and then run -> wrong way\n",
    "# Please be careful, some functions change the directory in which everything is being saved; the\n",
    "# order of the calling of the functions is organized to start from a generic dir, create the dir\n",
    "# Simulations/Simulation i, go to that directory and then, when everythingis finished, go back to\n",
    "# the initial dir!!! If you don't do that, it will stay in the subdir and at the next run it will\n",
    "# create a subdir of a subdir -> if you need to stop midway through because u forgot something, \n",
    "# remember to come back to the initial directory (and eliminate the directory that has not correct\n",
    "# files inside).\n",
    "\n",
    "# GG EZ - kallo27"
   ]
  },
  {
   "cell_type": "code",
   "execution_count": 2,
   "metadata": {},
   "outputs": [],
   "source": [
    "# REQUIRED PACKAGES -> no visualization!!\n",
    "\n",
    "using SpecialFunctions\n",
    "using Distributions\n",
    "using SimulatedAnnealingABC\n",
    "using DataFrames\n",
    "using XLSX\n",
    "using ThreadPinning"
   ]
  },
  {
   "cell_type": "code",
   "execution_count": 3,
   "metadata": {},
   "outputs": [],
   "source": [
    "# MODEL AND MANAGING FUNCTIONS FILES\n",
    "\n",
    "push!(LOAD_PATH, \"./src\")\n",
    "include(\"../src/DirUtils.jl\")\n",
    "include(\"../src/SDDESolarDynamo.jl\")\n",
    "\n",
    "using .DirUtils\n",
    "using .SDDESolarDynamo"
   ]
  },
  {
   "cell_type": "code",
   "execution_count": 4,
   "metadata": {},
   "outputs": [
    {
     "name": "stdout",
     "output_type": "stream",
     "text": [
      "Hostname: \tDESKTOP-7P7E403\n",
      "CPU(s): \t1 x AMD Ryzen 7 3700U with Radeon Vega Mobile Gfx\n",
      "CPU target: \tznver1\n",
      "Cores: \t\t4 (8 CPU-threads due to 2-way SMT)\n",
      "NUMA domains: \t1 (4 cores each)\n",
      "\n",
      "\u001b[32m\u001b[1mJulia threads: \t4\u001b[22m\u001b[39m\n",
      "\n",
      "\u001b[36m\u001b[1mCPU socket 1\u001b[22m\u001b[39m\n",
      "  \u001b[33m\u001b[1m0\u001b[22m\u001b[39m,\u001b[90m1\u001b[39m, \u001b[33m\u001b[1m2\u001b[22m\u001b[39m,\u001b[90m3\u001b[39m, \u001b[33m\u001b[1m4\u001b[22m\u001b[39m,\u001b[90m5\u001b[39m, \u001b[33m\u001b[1m6\u001b[22m\u001b[39m,\u001b[90m7\u001b[39m\n",
      "\n",
      "\n",
      "\u001b[33m\u001b[1m#\u001b[22m\u001b[39m = Julia thread, \u001b[95m\u001b[1m#\u001b[22m\u001b[39m = Julia thread on HT, \u001b[31m\u001b[1m#\u001b[22m\u001b[39m = >1 Julia thread\n",
      "\n",
      "\u001b[90m(Mapping:\u001b[39m\u001b[90m 1 => 0,\u001b[39m\u001b[90m 2 => 2,\u001b[39m\u001b[90m 3 => 4,\u001b[39m\u001b[90m 4 => 6,\u001b[39m)\n"
     ]
    }
   ],
   "source": [
    "# THREADS SETTINGS AND INFO\n",
    "\n",
    "ThreadPinning.pinthreads(:cores)\n",
    "ThreadPinning.threadinfo()"
   ]
  },
  {
   "cell_type": "code",
   "execution_count": 10,
   "metadata": {},
   "outputs": [
    {
     "data": {
      "text/plain": [
       "4-element Vector{Float64}:\n",
       "  466.58123779466064\n",
       " 1324.3581906466002\n",
       "  763.6975827651291\n",
       " 1361.8222861793029"
      ]
     },
     "metadata": {},
     "output_type": "display_data"
    }
   ],
   "source": [
    "# EXTRACTING OPEN MAGNETIC FLUX AND SUNSPOT NUMBER RECORDS FROM XLSX FILE\n",
    "\n",
    "# Define DataFrame object\n",
    "data = load_sunspots_data(\"SN Usoskin Brehm.xlsx\")\n",
    "\n",
    "# Creation of the summary statistics for the real data\n",
    "u = data.open_magn_flux.^2\n",
    "indices = [39, 43, 49, 55]\n",
    "sim_ss = reduced_fourier_spectrum(u, indices)"
   ]
  },
  {
   "cell_type": "code",
   "execution_count": 11,
   "metadata": {},
   "outputs": [
    {
     "name": "stdout",
     "output_type": "stream",
     "text": [
      "Directory created at: /mnt/c/Users/Utente/SDDESolarDynamo.jl/examples/real_data_sim/real2\n"
     ]
    }
   ],
   "source": [
    "# DIRECTORY MANAGING\n",
    "\n",
    "# Current directory\n",
    "initial_directory = pwd()\n",
    "\n",
    "# New directory\n",
    "create_directory(\"real\")\n",
    "\n",
    "# NB: After \"create_directory\", we move to the new directory.\n",
    "# DON'T RUN THIS AGAIN, wait for the simulation to finish!!!! If you made errors,\n",
    "# eliminate the Simulations/Simulation i directory and then rerun everything"
   ]
  },
  {
   "cell_type": "code",
   "execution_count": 12,
   "metadata": {},
   "outputs": [
    {
     "name": "stdout",
     "output_type": "stream",
     "text": [
      "Parameters saved to: /mnt/c/Users/Utente/SDDESolarDynamo.jl/examples/real_data_sim/real2/sabc_params.csv\n"
     ]
    }
   ],
   "source": [
    "# SIMULATION PARAMETERS MANAGING\n",
    "\n",
    "# Parameters that can be tuned for new simulations\n",
    "prior = product_distribution(Uniform(5.0, 15), Uniform(0.1, 10.0), Uniform(0.1, 6.0), Uniform(0.01, 0.3), Uniform(1, 15))\n",
    "n_particles = 1000\n",
    "n_simulation = 50000\n",
    "v = 1.0\n",
    "type = 1\n",
    "\n",
    "# Writing on file \"sabc_params.csv\" of the values set in this cell.\n",
    "save_sabc_params(prior, n_particles, n_simulation, v, type, indices)"
   ]
  },
  {
   "cell_type": "code",
   "execution_count": 13,
   "metadata": {},
   "outputs": [
    {
     "name": "stderr",
     "output_type": "stream",
     "text": [
      "┌ Info: Initialization for 'single_eps'\n",
      "└ @ SimulatedAnnealingABC /home/kallo27/.julia/packages/SimulatedAnnealingABC/nelUw/src/SimulatedAnnealingABC.jl:158\n",
      "┌ Info: All particles have been updated 49 times.\n",
      "└ @ SimulatedAnnealingABC /home/kallo27/.julia/packages/SimulatedAnnealingABC/nelUw/src/SimulatedAnnealingABC.jl:399\n"
     ]
    },
    {
     "data": {
      "text/plain": [
       "Approximate posterior sample with 1000 particles:\n",
       "  - algorithm: :single_eps\n",
       "  - simulations used: 50000\n",
       "  - number of population updates: 49\n",
       "  - average transformed distance: 0.1484\n",
       "  - ϵ: [0.06737]\n",
       "  - number of population resamplings: 1\n",
       "  - acceptance rate: 0.06067\n",
       "The sample can be accessed with the field `population`.\n",
       "The history of ϵ can be accessed with the field `state.ϵ_history`.\n",
       "The history of ρ can be accessed with the field `state.ρ_history`.\n",
       "The history of u can be accessed with the field `state.u_history`.\n"
      ]
     },
     "metadata": {},
     "output_type": "display_data"
    },
    {
     "name": "stdout",
     "output_type": "stream",
     "text": [
      "eps_hist.csv data saved to: /mnt/c/Users/Utente/SDDESolarDynamo.jl/examples/real_data_sim/real2/eps_hist.csv\n",
      "u_hist.csv data saved to: /mnt/c/Users/Utente/SDDESolarDynamo.jl/examples/real_data_sim/real2/u_hist.csv\n",
      "rho_hist.csv data saved to: /mnt/c/Users/Utente/SDDESolarDynamo.jl/examples/real_data_sim/real2/rho_hist.csv\n",
      "Posterior parameters saved to: /mnt/c/Users/Utente/SDDESolarDynamo.jl/examples/real_data_sim/real2/pop.csv\n",
      "Rho values saved to: /mnt/c/Users/Utente/SDDESolarDynamo.jl/examples/real_data_sim/real2/rho.csv\n"
     ]
    }
   ],
   "source": [
    "# SIMULATION\n",
    "\n",
    "# Conditions\n",
    "tmin = data.year[1]; tmax = data.year[end]\n",
    "Tsim = [tmin, tmax]\n",
    "dt = 0.1\n",
    "\n",
    "# Actual usage of the sABC algorithm\n",
    "result = sabc(f_dist, prior;\n",
    "              n_particles = n_particles, \n",
    "              n_simulation = n_simulation,\n",
    "              v = v,\n",
    "              type = type,\n",
    "              indices = indices,\n",
    "              fourier_data = sim_ss,\n",
    "              Tsim = Tsim,\n",
    "              dt = dt)\n",
    "\n",
    "# Display of the summary of the results\n",
    "display(result)\n",
    "\n",
    "# Saving the results to the files: \"eps_hist.csv\", \"u_hist.csv\", \"rho_hist.csv\", \"pop.csv\", \"rho.csv\".\n",
    "save_result(result)"
   ]
  },
  {
   "cell_type": "code",
   "execution_count": 14,
   "metadata": {},
   "outputs": [
    {
     "data": {
      "text/plain": [
       "\"/mnt/c/Users/Utente/SDDESolarDynamo.jl/examples\""
      ]
     },
     "metadata": {},
     "output_type": "display_data"
    }
   ],
   "source": [
    "# DIRECTORY MANAGING\n",
    "\n",
    "# We go back to the initial directory\n",
    "cd(initial_directory)\n",
    "pwd()"
   ]
  }
 ],
 "metadata": {
  "kernelspec": {
   "display_name": "Julia 1.10.8",
   "language": "julia",
   "name": "julia-1.10"
  },
  "language_info": {
   "file_extension": ".jl",
   "mimetype": "application/julia",
   "name": "julia",
   "version": "1.10.8"
  }
 },
 "nbformat": 4,
 "nbformat_minor": 2
}
