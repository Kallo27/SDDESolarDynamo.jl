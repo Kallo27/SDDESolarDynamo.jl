{
 "cells": [
  {
   "cell_type": "code",
   "execution_count": 1,
   "metadata": {},
   "outputs": [],
   "source": [
    "# REAL NOTEBOOK\n",
    "\n",
    "# This notebook runs a simulation for the Solar Dynamo model with the sABC algorithm.\n",
    "# The results of the simulation are all stored in files in the directory Simulations/Real i.\n",
    "# The reason behind this is to have an easier access to the results of already run simulations,\n",
    "# without running them again. This notebook only processes real data!!\n",
    "\n",
    "# NB: In this notebook, there's no function to visualize the results: the visualization is all\n",
    "# contained in the \"visualization_real.ipynb\" notebook.\n",
    "\n",
    "# RULES:\n",
    "\n",
    "# There are two ways to use this notebook:\n",
    "# 1) change all the parameters and then run all -> correct way\n",
    "# 2) change things randomly and not in order and then run -> wrong way\n",
    "# Please be careful, some functions change the directory in which everything is being saved; the\n",
    "# order of the calling of the functions is organized to start from a generic dir, create the dir\n",
    "# Simulations/Simulation i, go to that directory and then, when everythingis finished, go back to\n",
    "# the initial dir!!! If you don't do that, it will stay in the subdir and at the next run it will\n",
    "# create a subdir of a subdir -> if you need to stop midway through because u forgot something, \n",
    "# remember to come back to the initial directory (and eliminate the directory that has not correct\n",
    "# files inside).\n",
    "\n",
    "# GG EZ - kallo27"
   ]
  },
  {
   "cell_type": "code",
   "execution_count": 2,
   "metadata": {},
   "outputs": [],
   "source": [
    "# REQUIRED PACKAGES -> no visualization!!\n",
    "\n",
    "using SpecialFunctions\n",
    "using Distributions\n",
    "using SimulatedAnnealingABC\n",
    "using DataFrames\n",
    "using XLSX\n",
    "using ThreadPinning"
   ]
  },
  {
   "cell_type": "code",
   "execution_count": 3,
   "metadata": {},
   "outputs": [],
   "source": [
    "# MODEL AND MANAGING FUNCTIONS FILES\n",
    "\n",
    "include(\"./model_functions.jl\")\n",
    "include(\"./managing_functions.jl\")\n",
    "\n",
    "using .model_functions\n",
    "using .managing_functions"
   ]
  },
  {
   "cell_type": "code",
   "execution_count": 4,
   "metadata": {},
   "outputs": [
    {
     "name": "stdout",
     "output_type": "stream",
     "text": [
      "\n",
      "System: 8 cores (no SMT), 8 sockets, 1 NUMA domains\n",
      "\n",
      "\u001b[0m\u001b[1m| \u001b[22m\u001b[33m\u001b[1m0\u001b[22m\u001b[39m\u001b[0m\u001b[1m | \u001b[22m\u001b[33m\u001b[1m1\u001b[22m\u001b[39m\u001b[0m\u001b[1m | \u001b[22m\u001b[33m\u001b[1m2\u001b[22m\u001b[39m\u001b[0m\u001b[1m | \u001b[22m\u001b[33m\u001b[1m3\u001b[22m\u001b[39m\u001b[0m\u001b[1m | \u001b[22m\u001b[33m\u001b[1m4\u001b[22m\u001b[39m\u001b[0m\u001b[1m | \u001b[22m\u001b[33m\u001b[1m5\u001b[22m\u001b[39m\u001b[0m\u001b[1m | \u001b[22m\u001b[33m\u001b[1m6\u001b[22m\u001b[39m\u001b[0m\u001b[1m | \u001b[22m\u001b[33m\u001b[1m7\u001b[22m\u001b[39m\u001b[0m\u001b[1m | \u001b[22m\n",
      "\n",
      "\u001b[33m\u001b[1m#\u001b[22m\u001b[39m = Julia thread, \u001b[0m\u001b[1m|\u001b[22m = Socket seperator\n",
      "\n",
      "Julia threads: \u001b[32m8\u001b[39m\n",
      "├ Occupied CPU-threads: \u001b[32m8\u001b[39m\n",
      "└ Mapping (Thread => CPUID): 1 => 0, 2 => 1, 3 => 2, 4 => 3, 5 => 4, ...\n"
     ]
    }
   ],
   "source": [
    "# THREADS SETTINGS AND INFO\n",
    "\n",
    "ThreadPinning.pinthreads(:cores)\n",
    "ThreadPinning.threadinfo()"
   ]
  },
  {
   "cell_type": "code",
   "execution_count": 5,
   "metadata": {},
   "outputs": [
    {
     "data": {
      "text/plain": [
       "4-element Vector{Float64}:\n",
       "  466.58123779466064\n",
       " 1324.3581906466002\n",
       "  763.6975827651291\n",
       " 1361.8222861793029"
      ]
     },
     "metadata": {},
     "output_type": "display_data"
    }
   ],
   "source": [
    "# EXTRACTING OPEN MAGNETIC FLUX AND SUNSPOT NUMBER RECORDS FROM XLSX FILE\n",
    "\n",
    "# Define DataFrame object\n",
    "data = DataFrame(\n",
    "  year = Int[],\n",
    "  open_magn_flux = Float64[],\n",
    "  open_magn_flux_err = Float64[],\n",
    "  ssa_open_magn_flux = Float64[],\n",
    "  sunspots_num = Float64[],\n",
    "  sunspots_err = Float64[],\n",
    "  ssa_sunspots = Float64[]\n",
    ")\n",
    "\n",
    "# Open file and for each row write data into the DataFrame\n",
    "XLSX.openxlsx(\"SN Usoskin Brehm.xlsx\") do file\n",
    "  sheet = file[\"Data\"] \n",
    "\n",
    "  for row in XLSX.eachrow(sheet)\n",
    "    if isa(row[2], Number)\n",
    "      push!(data, (\n",
    "        year = row[2],\n",
    "        open_magn_flux = row[3],\n",
    "        open_magn_flux_err = row[4],\n",
    "        ssa_open_magn_flux = row[5],\n",
    "        sunspots_num = row[7],\n",
    "        sunspots_err = row[8],\n",
    "        ssa_sunspots = row[9]\n",
    "      ))\n",
    "    end\n",
    "  end\n",
    "end\n",
    "\n",
    "# Creation of the summary statistics for the real data\n",
    "u = data.open_magn_flux.^2\n",
    "indices = [39, 43, 49, 55]\n",
    "sim_ss = reduced_fourier_spectrum(u, indices)"
   ]
  },
  {
   "cell_type": "code",
   "execution_count": 6,
   "metadata": {},
   "outputs": [
    {
     "name": "stdout",
     "output_type": "stream",
     "text": [
      "Directory created at: /home/ubuntu/LCP_B/Project/Simulations/Real 22\n"
     ]
    }
   ],
   "source": [
    "# DIRECTORY MANAGING\n",
    "\n",
    "# Current directory\n",
    "initial_directory = pwd()\n",
    "\n",
    "# New directory\n",
    "create_directory(\"Real\")\n",
    "\n",
    "# NB: After \"create_directory\", we move to the new directory.\n",
    "# DON'T RUN THIS AGAIN, wait for the simulation to finish!!!! If you made errors,\n",
    "# eliminate the Simulations/Simulation i directory and then rerun everything"
   ]
  },
  {
   "cell_type": "code",
   "execution_count": 7,
   "metadata": {},
   "outputs": [
    {
     "name": "stdout",
     "output_type": "stream",
     "text": [
      "Parameters saved to: /home/ubuntu/LCP_B/Project/Simulations/Real 22/sabc_params.csv\n"
     ]
    }
   ],
   "source": [
    "# SIMULATION PARAMETERS MANAGING\n",
    "\n",
    "# Parameters that can be tuned for new simulations\n",
    "prior = product_distribution(Uniform(5.0, 15), Uniform(0.1, 10.0), Uniform(0.1, 6.0), Uniform(0.01, 0.3), Uniform(1, 15))\n",
    "n_particles = 1000\n",
    "n_simulation = 50000\n",
    "v = 1.0\n",
    "type = 1\n",
    "\n",
    "# Writing on file \"sabc_params.csv\" of the values set in this cell.\n",
    "save_sabc_params(prior, n_particles, n_simulation, v, type, indices)"
   ]
  },
  {
   "cell_type": "code",
   "execution_count": 8,
   "metadata": {},
   "outputs": [
    {
     "name": "stderr",
     "output_type": "stream",
     "text": [
      "┌ Info: Preparing to run SABC algorithm: 'single-epsilon'\n",
      "└ @ SimulatedAnnealingABC /home/ubuntu/.julia/packages/SimulatedAnnealingABC/e8QsC/src/SimulatedAnnealingABC.jl:188\n",
      "┌ Info: Using threads: 8 \n",
      "└ @ SimulatedAnnealingABC /home/ubuntu/.julia/packages/SimulatedAnnealingABC/e8QsC/src/SimulatedAnnealingABC.jl:199\n",
      "┌ Info: Set BLAS threads = 1 \n",
      "└ @ SimulatedAnnealingABC /home/ubuntu/.julia/packages/SimulatedAnnealingABC/e8QsC/src/SimulatedAnnealingABC.jl:202\n",
      "┌ Info: Set 'pinthreads(:cores)' for optimal multi-threading performance\n",
      "└ @ SimulatedAnnealingABC /home/ubuntu/.julia/packages/SimulatedAnnealingABC/e8QsC/src/SimulatedAnnealingABC.jl:204\n",
      "┌ Info: Initializing population...\n",
      "└ @ SimulatedAnnealingABC /home/ubuntu/.julia/packages/SimulatedAnnealingABC/e8QsC/src/SimulatedAnnealingABC.jl:223\n",
      "┌ Info: Initial resampling (δ = 0.1) - ESS = 996.6799495718245 \n",
      "└ @ SimulatedAnnealingABC /home/ubuntu/.julia/packages/SimulatedAnnealingABC/e8QsC/src/SimulatedAnnealingABC.jl:277\n",
      "┌ Info: Population with 1000 particles initialised.\n",
      "└ @ SimulatedAnnealingABC /home/ubuntu/.julia/packages/SimulatedAnnealingABC/e8QsC/src/SimulatedAnnealingABC.jl:309\n",
      "┌ Info: Initial ϵ = [0.28586406668547343]\n",
      "└ @ SimulatedAnnealingABC /home/ubuntu/.julia/packages/SimulatedAnnealingABC/e8QsC/src/SimulatedAnnealingABC.jl:310\n",
      "┌ Info: 2024-08-30T20:40:44.219 -- Starting population updates.\n",
      "└ @ SimulatedAnnealingABC /home/ubuntu/.julia/packages/SimulatedAnnealingABC/e8QsC/src/SimulatedAnnealingABC.jl:358\n",
      "┌ Info: Resampling 2 (δ = 0.1) - ESS = 991.2328295119798\n",
      "└ @ SimulatedAnnealingABC /home/ubuntu/.julia/packages/SimulatedAnnealingABC/e8QsC/src/SimulatedAnnealingABC.jl:470\n",
      "┌ Info: Resampling 3 (δ = 0.1) - ESS = 989.4281481846592\n",
      "└ @ SimulatedAnnealingABC /home/ubuntu/.julia/packages/SimulatedAnnealingABC/e8QsC/src/SimulatedAnnealingABC.jl:470\n",
      "┌ Info: 2024-08-30T20:40:53.798  All particles have been updated 49 times.\n",
      "└ @ SimulatedAnnealingABC /home/ubuntu/.julia/packages/SimulatedAnnealingABC/e8QsC/src/SimulatedAnnealingABC.jl:518\n"
     ]
    },
    {
     "data": {
      "text/plain": [
       "Approximate posterior sample with 1000 particles:\n",
       "  - simulations used: 50000\n",
       "  - average transformed distance: 0.07491\n",
       "  - ϵ: [0.02846]\n",
       "  - population resampling: 3\n",
       "  - acceptance rate: 0.1356\n",
       "The sample can be accessed with the field `population`.\n",
       "The history of ϵ can be accessed with the field `state.ϵ_history`.\n",
       " -------------------------------------- \n"
      ]
     },
     "metadata": {},
     "output_type": "display_data"
    },
    {
     "name": "stdout",
     "output_type": "stream",
     "text": [
      "eps_hist.csv data saved to: /home/ubuntu/LCP_B/Project/Simulations/Real 22/eps_hist.csv\n",
      "u_hist.csv data saved to: /home/ubuntu/LCP_B/Project/Simulations/Real 22/u_hist.csv\n",
      "rho_hist.csv data saved to: /home/ubuntu/LCP_B/Project/Simulations/Real 22/rho_hist.csv\n",
      "Posterior parameters saved to: /home/ubuntu/LCP_B/Project/Simulations/Real 22/pop.csv\n",
      "Rho values saved to: /home/ubuntu/LCP_B/Project/Simulations/Real 22/rho.csv\n"
     ]
    }
   ],
   "source": [
    "# SIMULATION\n",
    "\n",
    "# Conditions\n",
    "tmin = data.year[1]; tmax = data.year[end]\n",
    "Tsim = [tmin, tmax]\n",
    "dt = 0.1\n",
    "\n",
    "# Actual usage of the sABC algorithm\n",
    "result = sabc(f_dist, prior;\n",
    "              n_particles = n_particles, \n",
    "              n_simulation = n_simulation,\n",
    "              v = v,\n",
    "              type = type,\n",
    "              indices = indices,\n",
    "              fourier_data = sim_ss,\n",
    "              Tsim = Tsim,\n",
    "              dt = dt)\n",
    "\n",
    "# Display of the summary of the results\n",
    "display(result)\n",
    "\n",
    "# Saving the results to the files: \"eps_hist.csv\", \"u_hist.csv\", \"rho_hist.csv\", \"pop.csv\", \"rho.csv\".\n",
    "save_result(result)"
   ]
  },
  {
   "cell_type": "code",
   "execution_count": 9,
   "metadata": {},
   "outputs": [
    {
     "data": {
      "text/plain": [
       "\"/home/ubuntu/LCP_B/Project\""
      ]
     },
     "metadata": {},
     "output_type": "display_data"
    }
   ],
   "source": [
    "# DIRECTORY MANAGING\n",
    "\n",
    "# We go back to the initial directory\n",
    "cd(initial_directory)\n",
    "pwd()"
   ]
  }
 ],
 "metadata": {
  "kernelspec": {
   "display_name": "Julia 1.10.4",
   "language": "julia",
   "name": "julia-1.10"
  },
  "language_info": {
   "file_extension": ".jl",
   "mimetype": "application/julia",
   "name": "julia",
   "version": "1.10.4"
  }
 },
 "nbformat": 4,
 "nbformat_minor": 2
}
